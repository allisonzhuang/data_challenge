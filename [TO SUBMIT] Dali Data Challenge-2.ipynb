{
 "cells": [
  {
   "cell_type": "markdown",
   "id": "4f5918ed",
   "metadata": {},
   "source": [
    "# Part 1: Data Visualization"
   ]
  },
  {
   "cell_type": "code",
   "execution_count": 3,
   "id": "be0543a9",
   "metadata": {},
   "outputs": [
    {
     "data": {
      "text/html": [
       "<div>\n",
       "<style scoped>\n",
       "    .dataframe tbody tr th:only-of-type {\n",
       "        vertical-align: middle;\n",
       "    }\n",
       "\n",
       "    .dataframe tbody tr th {\n",
       "        vertical-align: top;\n",
       "    }\n",
       "\n",
       "    .dataframe thead th {\n",
       "        text-align: right;\n",
       "    }\n",
       "</style>\n",
       "<table border=\"1\" class=\"dataframe\">\n",
       "  <thead>\n",
       "    <tr style=\"text-align: right;\">\n",
       "      <th></th>\n",
       "      <th>Row ID</th>\n",
       "      <th>Order ID</th>\n",
       "      <th>Order Date</th>\n",
       "      <th>Ship Date</th>\n",
       "      <th>Ship Mode</th>\n",
       "      <th>Customer ID</th>\n",
       "      <th>Customer Name</th>\n",
       "      <th>Segment</th>\n",
       "      <th>Country</th>\n",
       "      <th>City</th>\n",
       "      <th>...</th>\n",
       "      <th>Postal Code</th>\n",
       "      <th>Region</th>\n",
       "      <th>Product ID</th>\n",
       "      <th>Category</th>\n",
       "      <th>Sub-Category</th>\n",
       "      <th>Product Name</th>\n",
       "      <th>Sales</th>\n",
       "      <th>Quantity</th>\n",
       "      <th>Discount</th>\n",
       "      <th>Profit\\</th>\n",
       "    </tr>\n",
       "  </thead>\n",
       "  <tbody>\n",
       "    <tr>\n",
       "      <th>0</th>\n",
       "      <td>1</td>\n",
       "      <td>CA-2016-152156</td>\n",
       "      <td>11/8/2016</td>\n",
       "      <td>11/11/2016</td>\n",
       "      <td>Second Class</td>\n",
       "      <td>CG-12520</td>\n",
       "      <td>Claire Gute</td>\n",
       "      <td>Consumer</td>\n",
       "      <td>United States</td>\n",
       "      <td>Henderson</td>\n",
       "      <td>...</td>\n",
       "      <td>42420</td>\n",
       "      <td>South</td>\n",
       "      <td>FUR-BO-10001798</td>\n",
       "      <td>Furniture</td>\n",
       "      <td>Bookcases</td>\n",
       "      <td>Bush Somerset Collection Bookcase</td>\n",
       "      <td>261.9600</td>\n",
       "      <td>2</td>\n",
       "      <td>0.00</td>\n",
       "      <td>41.9136\\</td>\n",
       "    </tr>\n",
       "    <tr>\n",
       "      <th>1</th>\n",
       "      <td>2</td>\n",
       "      <td>CA-2016-152156</td>\n",
       "      <td>11/8/2016</td>\n",
       "      <td>11/11/2016</td>\n",
       "      <td>Second Class</td>\n",
       "      <td>CG-12520</td>\n",
       "      <td>Claire Gute</td>\n",
       "      <td>Consumer</td>\n",
       "      <td>United States</td>\n",
       "      <td>Henderson</td>\n",
       "      <td>...</td>\n",
       "      <td>42420</td>\n",
       "      <td>South</td>\n",
       "      <td>FUR-CH-10000454</td>\n",
       "      <td>Furniture</td>\n",
       "      <td>Chairs</td>\n",
       "      <td>Hon Deluxe Fabric Upholstered Stacking Chairs,...</td>\n",
       "      <td>731.9400</td>\n",
       "      <td>3</td>\n",
       "      <td>0.00</td>\n",
       "      <td>219.582\\</td>\n",
       "    </tr>\n",
       "    <tr>\n",
       "      <th>2</th>\n",
       "      <td>3</td>\n",
       "      <td>CA-2016-138688</td>\n",
       "      <td>6/12/2016</td>\n",
       "      <td>6/16/2016</td>\n",
       "      <td>Second Class</td>\n",
       "      <td>DV-13045</td>\n",
       "      <td>Darrin Van Huff</td>\n",
       "      <td>Corporate</td>\n",
       "      <td>United States</td>\n",
       "      <td>Los Angeles</td>\n",
       "      <td>...</td>\n",
       "      <td>90036</td>\n",
       "      <td>West</td>\n",
       "      <td>OFF-LA-10000240</td>\n",
       "      <td>Office Supplies</td>\n",
       "      <td>Labels</td>\n",
       "      <td>Self-Adhesive Address Labels for Typewriters b...</td>\n",
       "      <td>14.6200</td>\n",
       "      <td>2</td>\n",
       "      <td>0.00</td>\n",
       "      <td>6.8714\\</td>\n",
       "    </tr>\n",
       "    <tr>\n",
       "      <th>3</th>\n",
       "      <td>4</td>\n",
       "      <td>US-2015-108966</td>\n",
       "      <td>10/11/2015</td>\n",
       "      <td>10/18/2015</td>\n",
       "      <td>Standard Class</td>\n",
       "      <td>SO-20335</td>\n",
       "      <td>Sean O'Donnell</td>\n",
       "      <td>Consumer</td>\n",
       "      <td>United States</td>\n",
       "      <td>Fort Lauderdale</td>\n",
       "      <td>...</td>\n",
       "      <td>33311</td>\n",
       "      <td>South</td>\n",
       "      <td>FUR-TA-10000577</td>\n",
       "      <td>Furniture</td>\n",
       "      <td>Tables</td>\n",
       "      <td>Bretford CR4500 Series Slim Rectangular Table</td>\n",
       "      <td>957.5775</td>\n",
       "      <td>5</td>\n",
       "      <td>0.45</td>\n",
       "      <td>-383.031\\</td>\n",
       "    </tr>\n",
       "    <tr>\n",
       "      <th>4</th>\n",
       "      <td>5</td>\n",
       "      <td>US-2015-108966</td>\n",
       "      <td>10/11/2015</td>\n",
       "      <td>10/18/2015</td>\n",
       "      <td>Standard Class</td>\n",
       "      <td>SO-20335</td>\n",
       "      <td>Sean O'Donnell</td>\n",
       "      <td>Consumer</td>\n",
       "      <td>United States</td>\n",
       "      <td>Fort Lauderdale</td>\n",
       "      <td>...</td>\n",
       "      <td>33311</td>\n",
       "      <td>South</td>\n",
       "      <td>OFF-ST-10000760</td>\n",
       "      <td>Office Supplies</td>\n",
       "      <td>Storage</td>\n",
       "      <td>Eldon Fold 'N Roll Cart System</td>\n",
       "      <td>22.3680</td>\n",
       "      <td>2</td>\n",
       "      <td>0.20</td>\n",
       "      <td>2.5164\\</td>\n",
       "    </tr>\n",
       "  </tbody>\n",
       "</table>\n",
       "<p>5 rows × 21 columns</p>\n",
       "</div>"
      ],
      "text/plain": [
       "   Row ID        Order ID  Order Date   Ship Date       Ship Mode Customer ID  \\\n",
       "0       1  CA-2016-152156   11/8/2016  11/11/2016    Second Class    CG-12520   \n",
       "1       2  CA-2016-152156   11/8/2016  11/11/2016    Second Class    CG-12520   \n",
       "2       3  CA-2016-138688   6/12/2016   6/16/2016    Second Class    DV-13045   \n",
       "3       4  US-2015-108966  10/11/2015  10/18/2015  Standard Class    SO-20335   \n",
       "4       5  US-2015-108966  10/11/2015  10/18/2015  Standard Class    SO-20335   \n",
       "\n",
       "     Customer Name    Segment        Country             City  ...  \\\n",
       "0      Claire Gute   Consumer  United States        Henderson  ...   \n",
       "1      Claire Gute   Consumer  United States        Henderson  ...   \n",
       "2  Darrin Van Huff  Corporate  United States      Los Angeles  ...   \n",
       "3   Sean O'Donnell   Consumer  United States  Fort Lauderdale  ...   \n",
       "4   Sean O'Donnell   Consumer  United States  Fort Lauderdale  ...   \n",
       "\n",
       "  Postal Code  Region       Product ID         Category Sub-Category  \\\n",
       "0       42420   South  FUR-BO-10001798        Furniture    Bookcases   \n",
       "1       42420   South  FUR-CH-10000454        Furniture       Chairs   \n",
       "2       90036    West  OFF-LA-10000240  Office Supplies       Labels   \n",
       "3       33311   South  FUR-TA-10000577        Furniture       Tables   \n",
       "4       33311   South  OFF-ST-10000760  Office Supplies      Storage   \n",
       "\n",
       "                                        Product Name     Sales  Quantity  \\\n",
       "0                  Bush Somerset Collection Bookcase  261.9600         2   \n",
       "1  Hon Deluxe Fabric Upholstered Stacking Chairs,...  731.9400         3   \n",
       "2  Self-Adhesive Address Labels for Typewriters b...   14.6200         2   \n",
       "3      Bretford CR4500 Series Slim Rectangular Table  957.5775         5   \n",
       "4                     Eldon Fold 'N Roll Cart System   22.3680         2   \n",
       "\n",
       "   Discount    Profit\\  \n",
       "0      0.00   41.9136\\  \n",
       "1      0.00   219.582\\  \n",
       "2      0.00    6.8714\\  \n",
       "3      0.45  -383.031\\  \n",
       "4      0.20    2.5164\\  \n",
       "\n",
       "[5 rows x 21 columns]"
      ]
     },
     "execution_count": 3,
     "metadata": {},
     "output_type": "execute_result"
    }
   ],
   "source": [
    "import numpy as np\n",
    "import pandas as pd\n",
    "\n",
    "df = pd.read_csv('Superstore.csv')\n",
    "df.head()"
   ]
  },
  {
   "cell_type": "code",
   "execution_count": 4,
   "id": "f68d1312",
   "metadata": {
    "scrolled": true
   },
   "outputs": [
    {
     "data": {
      "text/html": [
       "<div>\n",
       "<style scoped>\n",
       "    .dataframe tbody tr th:only-of-type {\n",
       "        vertical-align: middle;\n",
       "    }\n",
       "\n",
       "    .dataframe tbody tr th {\n",
       "        vertical-align: top;\n",
       "    }\n",
       "\n",
       "    .dataframe thead th {\n",
       "        text-align: right;\n",
       "    }\n",
       "</style>\n",
       "<table border=\"1\" class=\"dataframe\">\n",
       "  <thead>\n",
       "    <tr style=\"text-align: right;\">\n",
       "      <th></th>\n",
       "      <th>Row ID</th>\n",
       "      <th>Order ID</th>\n",
       "      <th>Order Date</th>\n",
       "      <th>Ship Date</th>\n",
       "      <th>Ship Mode</th>\n",
       "      <th>Customer ID</th>\n",
       "      <th>Customer Name</th>\n",
       "      <th>Segment</th>\n",
       "      <th>Country</th>\n",
       "      <th>City</th>\n",
       "      <th>...</th>\n",
       "      <th>Postal Code</th>\n",
       "      <th>Region</th>\n",
       "      <th>Product ID</th>\n",
       "      <th>Category</th>\n",
       "      <th>Sub-Category</th>\n",
       "      <th>Product Name</th>\n",
       "      <th>Sales</th>\n",
       "      <th>Quantity</th>\n",
       "      <th>Discount</th>\n",
       "      <th>Profit</th>\n",
       "    </tr>\n",
       "  </thead>\n",
       "  <tbody>\n",
       "    <tr>\n",
       "      <th>0</th>\n",
       "      <td>1</td>\n",
       "      <td>CA-2016-152156</td>\n",
       "      <td>11/8/2016</td>\n",
       "      <td>11/11/2016</td>\n",
       "      <td>Second Class</td>\n",
       "      <td>CG-12520</td>\n",
       "      <td>Claire Gute</td>\n",
       "      <td>Consumer</td>\n",
       "      <td>United States</td>\n",
       "      <td>Henderson</td>\n",
       "      <td>...</td>\n",
       "      <td>42420</td>\n",
       "      <td>South</td>\n",
       "      <td>FUR-BO-10001798</td>\n",
       "      <td>Furniture</td>\n",
       "      <td>Bookcases</td>\n",
       "      <td>Bush Somerset Collection Bookcase</td>\n",
       "      <td>261.9600</td>\n",
       "      <td>2</td>\n",
       "      <td>0.00</td>\n",
       "      <td>41.9136</td>\n",
       "    </tr>\n",
       "    <tr>\n",
       "      <th>1</th>\n",
       "      <td>2</td>\n",
       "      <td>CA-2016-152156</td>\n",
       "      <td>11/8/2016</td>\n",
       "      <td>11/11/2016</td>\n",
       "      <td>Second Class</td>\n",
       "      <td>CG-12520</td>\n",
       "      <td>Claire Gute</td>\n",
       "      <td>Consumer</td>\n",
       "      <td>United States</td>\n",
       "      <td>Henderson</td>\n",
       "      <td>...</td>\n",
       "      <td>42420</td>\n",
       "      <td>South</td>\n",
       "      <td>FUR-CH-10000454</td>\n",
       "      <td>Furniture</td>\n",
       "      <td>Chairs</td>\n",
       "      <td>Hon Deluxe Fabric Upholstered Stacking Chairs,...</td>\n",
       "      <td>731.9400</td>\n",
       "      <td>3</td>\n",
       "      <td>0.00</td>\n",
       "      <td>219.582</td>\n",
       "    </tr>\n",
       "    <tr>\n",
       "      <th>2</th>\n",
       "      <td>3</td>\n",
       "      <td>CA-2016-138688</td>\n",
       "      <td>6/12/2016</td>\n",
       "      <td>6/16/2016</td>\n",
       "      <td>Second Class</td>\n",
       "      <td>DV-13045</td>\n",
       "      <td>Darrin Van Huff</td>\n",
       "      <td>Corporate</td>\n",
       "      <td>United States</td>\n",
       "      <td>Los Angeles</td>\n",
       "      <td>...</td>\n",
       "      <td>90036</td>\n",
       "      <td>West</td>\n",
       "      <td>OFF-LA-10000240</td>\n",
       "      <td>Office Supplies</td>\n",
       "      <td>Labels</td>\n",
       "      <td>Self-Adhesive Address Labels for Typewriters b...</td>\n",
       "      <td>14.6200</td>\n",
       "      <td>2</td>\n",
       "      <td>0.00</td>\n",
       "      <td>6.8714</td>\n",
       "    </tr>\n",
       "    <tr>\n",
       "      <th>3</th>\n",
       "      <td>4</td>\n",
       "      <td>US-2015-108966</td>\n",
       "      <td>10/11/2015</td>\n",
       "      <td>10/18/2015</td>\n",
       "      <td>Standard Class</td>\n",
       "      <td>SO-20335</td>\n",
       "      <td>Sean O'Donnell</td>\n",
       "      <td>Consumer</td>\n",
       "      <td>United States</td>\n",
       "      <td>Fort Lauderdale</td>\n",
       "      <td>...</td>\n",
       "      <td>33311</td>\n",
       "      <td>South</td>\n",
       "      <td>FUR-TA-10000577</td>\n",
       "      <td>Furniture</td>\n",
       "      <td>Tables</td>\n",
       "      <td>Bretford CR4500 Series Slim Rectangular Table</td>\n",
       "      <td>957.5775</td>\n",
       "      <td>5</td>\n",
       "      <td>0.45</td>\n",
       "      <td>-383.031</td>\n",
       "    </tr>\n",
       "    <tr>\n",
       "      <th>4</th>\n",
       "      <td>5</td>\n",
       "      <td>US-2015-108966</td>\n",
       "      <td>10/11/2015</td>\n",
       "      <td>10/18/2015</td>\n",
       "      <td>Standard Class</td>\n",
       "      <td>SO-20335</td>\n",
       "      <td>Sean O'Donnell</td>\n",
       "      <td>Consumer</td>\n",
       "      <td>United States</td>\n",
       "      <td>Fort Lauderdale</td>\n",
       "      <td>...</td>\n",
       "      <td>33311</td>\n",
       "      <td>South</td>\n",
       "      <td>OFF-ST-10000760</td>\n",
       "      <td>Office Supplies</td>\n",
       "      <td>Storage</td>\n",
       "      <td>Eldon Fold 'N Roll Cart System</td>\n",
       "      <td>22.3680</td>\n",
       "      <td>2</td>\n",
       "      <td>0.20</td>\n",
       "      <td>2.5164</td>\n",
       "    </tr>\n",
       "  </tbody>\n",
       "</table>\n",
       "<p>5 rows × 21 columns</p>\n",
       "</div>"
      ],
      "text/plain": [
       "   Row ID        Order ID  Order Date   Ship Date       Ship Mode Customer ID  \\\n",
       "0       1  CA-2016-152156   11/8/2016  11/11/2016    Second Class    CG-12520   \n",
       "1       2  CA-2016-152156   11/8/2016  11/11/2016    Second Class    CG-12520   \n",
       "2       3  CA-2016-138688   6/12/2016   6/16/2016    Second Class    DV-13045   \n",
       "3       4  US-2015-108966  10/11/2015  10/18/2015  Standard Class    SO-20335   \n",
       "4       5  US-2015-108966  10/11/2015  10/18/2015  Standard Class    SO-20335   \n",
       "\n",
       "     Customer Name    Segment        Country             City  ...  \\\n",
       "0      Claire Gute   Consumer  United States        Henderson  ...   \n",
       "1      Claire Gute   Consumer  United States        Henderson  ...   \n",
       "2  Darrin Van Huff  Corporate  United States      Los Angeles  ...   \n",
       "3   Sean O'Donnell   Consumer  United States  Fort Lauderdale  ...   \n",
       "4   Sean O'Donnell   Consumer  United States  Fort Lauderdale  ...   \n",
       "\n",
       "  Postal Code  Region       Product ID         Category Sub-Category  \\\n",
       "0       42420   South  FUR-BO-10001798        Furniture    Bookcases   \n",
       "1       42420   South  FUR-CH-10000454        Furniture       Chairs   \n",
       "2       90036    West  OFF-LA-10000240  Office Supplies       Labels   \n",
       "3       33311   South  FUR-TA-10000577        Furniture       Tables   \n",
       "4       33311   South  OFF-ST-10000760  Office Supplies      Storage   \n",
       "\n",
       "                                        Product Name     Sales  Quantity  \\\n",
       "0                  Bush Somerset Collection Bookcase  261.9600         2   \n",
       "1  Hon Deluxe Fabric Upholstered Stacking Chairs,...  731.9400         3   \n",
       "2  Self-Adhesive Address Labels for Typewriters b...   14.6200         2   \n",
       "3      Bretford CR4500 Series Slim Rectangular Table  957.5775         5   \n",
       "4                     Eldon Fold 'N Roll Cart System   22.3680         2   \n",
       "\n",
       "   Discount    Profit  \n",
       "0      0.00   41.9136  \n",
       "1      0.00   219.582  \n",
       "2      0.00    6.8714  \n",
       "3      0.45  -383.031  \n",
       "4      0.20    2.5164  \n",
       "\n",
       "[5 rows x 21 columns]"
      ]
     },
     "execution_count": 4,
     "metadata": {},
     "output_type": "execute_result"
    }
   ],
   "source": [
    "#cleaning Profit\\ column:\n",
    "df.rename(columns={'Profit\\\\':'Profit'} ,inplace=True)\n",
    "df = df.replace(to_replace= r'\\\\', value= '', regex=True)\n",
    "df = df.replace(to_replace= '}', value= '', regex=True)\n",
    "df.head()"
   ]
  },
  {
   "cell_type": "code",
   "execution_count": 5,
   "id": "5732660f",
   "metadata": {},
   "outputs": [],
   "source": [
    "from matplotlib import pyplot as plt\n",
    "%matplotlib inline"
   ]
  },
  {
   "cell_type": "code",
   "execution_count": 6,
   "id": "a5066650",
   "metadata": {},
   "outputs": [
    {
     "data": {
      "text/plain": [
       "count     9994.000000\n",
       "mean       229.858001\n",
       "std        623.245101\n",
       "min          0.444000\n",
       "25%         17.280000\n",
       "50%         54.490000\n",
       "75%        209.940000\n",
       "max      22638.480000\n",
       "Name: Sales, dtype: float64"
      ]
     },
     "execution_count": 6,
     "metadata": {},
     "output_type": "execute_result"
    }
   ],
   "source": [
    "pd.to_numeric(df['Sales']).describe()"
   ]
  },
  {
   "cell_type": "code",
   "execution_count": 7,
   "id": "255b2f78",
   "metadata": {},
   "outputs": [
    {
     "data": {
      "text/plain": [
       "array([[ 9.99400000e+03,  2.29858001e+02,  6.23245101e+02,\n",
       "         4.44000000e-01,  1.72800000e+01,  5.44900000e+01,\n",
       "         2.09940000e+02,  2.26384800e+04],\n",
       "       [ 9.99400000e+03,  3.78957374e+00,  2.22510969e+00,\n",
       "         1.00000000e+00,  2.00000000e+00,  3.00000000e+00,\n",
       "         5.00000000e+00,  1.40000000e+01],\n",
       "       [ 9.99400000e+03,  1.56202722e-01,  2.06451968e-01,\n",
       "         0.00000000e+00,  0.00000000e+00,  2.00000000e-01,\n",
       "         2.00000000e-01,  8.00000000e-01],\n",
       "       [ 9.99400000e+03,  2.86568963e+01,  2.34260108e+02,\n",
       "        -6.59997800e+03,  1.72875000e+00,  8.66650000e+00,\n",
       "         2.93640000e+01,  8.39997600e+03]])"
      ]
     },
     "execution_count": 7,
     "metadata": {},
     "output_type": "execute_result"
    }
   ],
   "source": [
    "a = [pd.to_numeric(df['Sales']).describe(), pd.to_numeric(df['Quantity']).describe(),\n",
    "     pd.to_numeric(df['Discount']).describe(), pd.to_numeric(df['Profit']).describe()]\n",
    "arr = np.array(a)\n",
    "#running describe on all price-related attributes\n",
    "#goal: generate a nice table for overview of price-related data\n",
    "arr"
   ]
  },
  {
   "cell_type": "code",
   "execution_count": 8,
   "id": "a2c2218b",
   "metadata": {},
   "outputs": [
    {
     "data": {
      "text/plain": [
       "array([[ 9.99400000e+03,  9.99400000e+03,  9.99400000e+03,\n",
       "         9.99400000e+03],\n",
       "       [ 2.29858001e+02,  3.78957374e+00,  1.56202722e-01,\n",
       "         2.86568963e+01],\n",
       "       [ 6.23245101e+02,  2.22510969e+00,  2.06451968e-01,\n",
       "         2.34260108e+02],\n",
       "       [ 4.44000000e-01,  1.00000000e+00,  0.00000000e+00,\n",
       "        -6.59997800e+03],\n",
       "       [ 1.72800000e+01,  2.00000000e+00,  0.00000000e+00,\n",
       "         1.72875000e+00],\n",
       "       [ 5.44900000e+01,  3.00000000e+00,  2.00000000e-01,\n",
       "         8.66650000e+00],\n",
       "       [ 2.09940000e+02,  5.00000000e+00,  2.00000000e-01,\n",
       "         2.93640000e+01],\n",
       "       [ 2.26384800e+04,  1.40000000e+01,  8.00000000e-01,\n",
       "         8.39997600e+03]])"
      ]
     },
     "execution_count": 8,
     "metadata": {},
     "output_type": "execute_result"
    }
   ],
   "source": [
    "b = arr.T #transpose arr so that all means, SDs, etc. are grouped together\n",
    "b"
   ]
  },
  {
   "cell_type": "code",
   "execution_count": 9,
   "id": "dd4ae089",
   "metadata": {},
   "outputs": [
    {
     "name": "stdout",
     "output_type": "stream",
     "text": [
      "     Columns        Mean          SD   Minimum    Maximum\n",
      "r1     Sales  229.858001  623.245101     0.444  22638.480\n",
      "r2  Quantity    3.789574    2.225110     1.000     14.000\n",
      "r3  Discount    0.156203    0.206452     0.000      0.800\n",
      "r4    Profit   28.656896  234.260108 -6599.978   8399.976\n"
     ]
    }
   ],
   "source": [
    "price_and_quantity = {\n",
    "    'Columns':[\"Sales\",\"Quantity\",\"Discount\",\"Profit\"],\n",
    "    'Mean' : b[1],\n",
    "    'SD':b[2],\n",
    "    'Minimum':b[3],\n",
    "    'Maximum': b[-1],\n",
    "        \n",
    "              }\n",
    "index_labels=['r1', 'r2', 'r3', 'r4']\n",
    "df2 = pd.DataFrame(price_and_quantity,index=index_labels)\n",
    "print(df2)"
   ]
  },
  {
   "cell_type": "code",
   "execution_count": 10,
   "id": "4a05eb30",
   "metadata": {},
   "outputs": [],
   "source": [
    "#plotting distribution of shipping times:\n",
    "from datetime import datetime"
   ]
  },
  {
   "cell_type": "code",
   "execution_count": 11,
   "id": "9f74194e",
   "metadata": {},
   "outputs": [
    {
     "name": "stdout",
     "output_type": "stream",
     "text": [
      "2014-01-07 00:00:00 2018-01-05 00:00:00\n"
     ]
    }
   ],
   "source": [
    "ship_datetimes = [datetime.strptime(shipdate, \"%m/%d/%Y\") for shipdate in df['Ship Date']]\n",
    "print(min(ship_datetimes), max(ship_datetimes)) #timestamp form: (Y, M, D, hr, min))"
   ]
  },
  {
   "cell_type": "code",
   "execution_count": 12,
   "id": "7aab0527",
   "metadata": {},
   "outputs": [
    {
     "data": {
      "text/html": [
       "<div>\n",
       "<style scoped>\n",
       "    .dataframe tbody tr th:only-of-type {\n",
       "        vertical-align: middle;\n",
       "    }\n",
       "\n",
       "    .dataframe tbody tr th {\n",
       "        vertical-align: top;\n",
       "    }\n",
       "\n",
       "    .dataframe thead th {\n",
       "        text-align: right;\n",
       "    }\n",
       "</style>\n",
       "<table border=\"1\" class=\"dataframe\">\n",
       "  <thead>\n",
       "    <tr style=\"text-align: right;\">\n",
       "      <th></th>\n",
       "      <th>0</th>\n",
       "    </tr>\n",
       "  </thead>\n",
       "  <tbody>\n",
       "    <tr>\n",
       "      <th>count</th>\n",
       "      <td>9994.000000</td>\n",
       "    </tr>\n",
       "    <tr>\n",
       "      <th>mean</th>\n",
       "      <td>3.958175</td>\n",
       "    </tr>\n",
       "    <tr>\n",
       "      <th>std</th>\n",
       "      <td>1.747567</td>\n",
       "    </tr>\n",
       "    <tr>\n",
       "      <th>min</th>\n",
       "      <td>0.000000</td>\n",
       "    </tr>\n",
       "    <tr>\n",
       "      <th>25%</th>\n",
       "      <td>3.000000</td>\n",
       "    </tr>\n",
       "    <tr>\n",
       "      <th>50%</th>\n",
       "      <td>4.000000</td>\n",
       "    </tr>\n",
       "    <tr>\n",
       "      <th>75%</th>\n",
       "      <td>5.000000</td>\n",
       "    </tr>\n",
       "    <tr>\n",
       "      <th>max</th>\n",
       "      <td>7.000000</td>\n",
       "    </tr>\n",
       "  </tbody>\n",
       "</table>\n",
       "</div>"
      ],
      "text/plain": [
       "                 0\n",
       "count  9994.000000\n",
       "mean      3.958175\n",
       "std       1.747567\n",
       "min       0.000000\n",
       "25%       3.000000\n",
       "50%       4.000000\n",
       "75%       5.000000\n",
       "max       7.000000"
      ]
     },
     "execution_count": 12,
     "metadata": {},
     "output_type": "execute_result"
    }
   ],
   "source": [
    "order_datetimes = [datetime.strptime(orderdate, \"%m/%d/%Y\") for orderdate in df['Order Date']]\n",
    "ship_times = [(ship_datetimes[i]-order_datetimes[i]).days for i in range (len(ship_datetimes))]\n",
    "ship_times\n",
    "max(ship_times)\n",
    "min(ship_times)\n",
    "# ship_times.days\n",
    "df3 = pd.DataFrame(ship_times)\n",
    "df3.describe()"
   ]
  },
  {
   "cell_type": "code",
   "execution_count": 13,
   "id": "121920c1",
   "metadata": {},
   "outputs": [],
   "source": [
    "# ship_times"
   ]
  },
  {
   "cell_type": "code",
   "execution_count": 14,
   "id": "ed7b4ce0",
   "metadata": {},
   "outputs": [
    {
     "data": {
      "image/png": "[encoded data removed]",
      "text/plain": [
       "<Figure size 432x288 with 1 Axes>"
      ]
     },
     "metadata": {
      "needs_background": "light"
     },
     "output_type": "display_data"
    }
   ],
   "source": [
    "plt.hist(ship_times, bins = [0,1, 2, 3, 4, 5, 6, 7, 8]) #from before, we know that min = 0, max = 7\n",
    "plt.show()"
   ]
  },
  {
   "cell_type": "code",
   "execution_count": 15,
   "id": "030accd2",
   "metadata": {},
   "outputs": [
    {
     "data": {
      "text/plain": [
       "array(['South', 'West', 'Central', 'East'], dtype=object)"
      ]
     },
     "execution_count": 15,
     "metadata": {},
     "output_type": "execute_result"
    }
   ],
   "source": [
    "regions = df.Region.unique()\n",
    "regions"
   ]
  },
  {
   "cell_type": "code",
   "execution_count": 16,
   "id": "607f0abe",
   "metadata": {},
   "outputs": [],
   "source": [
    "south = df[df.Region == \"South\"]\n",
    "west = df[df.Region == \"West\"]\n",
    "central = df[df.Region == \"Central\"]\n",
    "east = df[df.Region == \"East\"]"
   ]
  },
  {
   "cell_type": "code",
   "execution_count": 58,
   "id": "146d7fcd",
   "metadata": {},
   "outputs": [
    {
     "data": {
      "text/plain": [
       "0             Furniture\n",
       "1             Furniture\n",
       "3             Furniture\n",
       "4       Office Supplies\n",
       "12      Office Supplies\n",
       "             ...       \n",
       "9971    Office Supplies\n",
       "9980          Furniture\n",
       "9987         Technology\n",
       "9988         Technology\n",
       "9989          Furniture\n",
       "Name: Category, Length: 1620, dtype: object"
      ]
     },
     "execution_count": 58,
     "metadata": {},
     "output_type": "execute_result"
    }
   ],
   "source": [
    "south.Category"
   ]
  },
  {
   "cell_type": "markdown",
   "id": "4fda58d5",
   "metadata": {},
   "source": [
    "Histograms to check relative amounts of each category per region"
   ]
  },
  {
   "cell_type": "code",
   "execution_count": 60,
   "id": "343bb096",
   "metadata": {},
   "outputs": [
    {
     "data": {
      "text/plain": [
       "<Figure size 432x288 with 0 Axes>"
      ]
     },
     "execution_count": 60,
     "metadata": {},
     "output_type": "execute_result"
    },
    {
     "data": {
      "image/png": "[encoded data removed]",
      "text/plain": [
       "<Figure size 432x288 with 1 Axes>"
      ]
     },
     "metadata": {
      "needs_background": "light"
     },
     "output_type": "display_data"
    },
    {
     "data": {
      "image/png": "[encoded data removed]",
      "text/plain": [
       "<Figure size 432x288 with 1 Axes>"
      ]
     },
     "metadata": {
      "needs_background": "light"
     },
     "output_type": "display_data"
    },
    {
     "data": {
      "image/png": "[encoded data removed]",
      "text/plain": [
       "<Figure size 432x288 with 1 Axes>"
      ]
     },
     "metadata": {
      "needs_background": "light"
     },
     "output_type": "display_data"
    },
    {
     "data": {
      "image/png": "[encoded data removed]",
      "text/plain": [
       "<Figure size 432x288 with 1 Axes>"
      ]
     },
     "metadata": {
      "needs_background": "light"
     },
     "output_type": "display_data"
    },
    {
     "data": {
      "text/plain": [
       "<Figure size 432x288 with 0 Axes>"
      ]
     },
     "metadata": {},
     "output_type": "display_data"
    }
   ],
   "source": [
    "plt.hist(south.Category)\n",
    "plt.xlabel('South', fontweight ='bold', fontsize = 15)\n",
    "plt.ylabel('Number of Orders', fontweight ='bold', fontsize = 15)\n",
    "plt.figure()\n",
    "\n",
    "plt.hist(west.Category)\n",
    "plt.xlabel('West', fontweight ='bold', fontsize = 15)\n",
    "plt.ylabel('Number of Orders', fontweight ='bold', fontsize = 15)\n",
    "plt.figure()\n",
    "\n",
    "plt.hist(central.Category)\n",
    "plt.xlabel('Central', fontweight ='bold', fontsize = 15)\n",
    "plt.ylabel('Number of Orders', fontweight ='bold', fontsize = 15)\n",
    "plt.figure()\n",
    "\n",
    "plt.hist(east.Category)\n",
    "plt.xlabel('East', fontweight ='bold', fontsize = 15)\n",
    "plt.ylabel('Number of Orders', fontweight ='bold', fontsize = 15)\n",
    "plt.figure()"
   ]
  },
  {
   "cell_type": "code",
   "execution_count": 40,
   "id": "22ec58aa",
   "metadata": {},
   "outputs": [
    {
     "data": {
      "image/png": "[encoded data removed]",
      "text/plain": [
       "<Figure size 864x576 with 1 Axes>"
      ]
     },
     "metadata": {
      "needs_background": "light"
     },
     "output_type": "display_data"
    }
   ],
   "source": [
    "# set width of bar\n",
    "barWidth = 0.20\n",
    "fig = plt.subplots(figsize =(12, 8))\n",
    " \n",
    "# set height of bar\n",
    "SOUTH = [south[south.Category == 'Office Supplies'].shape[0], south[south.Category == 'Technology'].shape[0], south[south.Category == 'Furniture'].shape[0]]\n",
    "WEST = [west[west.Category == 'Office Supplies'].shape[0], west[west.Category == 'Technology'].shape[0], west[west.Category == 'Furniture'].shape[0]]\n",
    "CENTRAL = [central[central.Category == 'Office Supplies'].shape[0], central[central.Category == 'Technology'].shape[0], central[central.Category == 'Furniture'].shape[0]]\n",
    "EAST = [east[east.Category == 'Office Supplies'].shape[0], east[east.Category == 'Technology'].shape[0], east[east.Category == 'Furniture'].shape[0]]\n",
    " \n",
    "# Set position of bar on X axis\n",
    "br1 = np.arange(len(SOUTH))\n",
    "br2 = [x + barWidth for x in br1]\n",
    "br3 = [x + barWidth for x in br2]\n",
    "br4 = [x + barWidth for x in br3]\n",
    " \n",
    "# Make the plot\n",
    "plt.bar(br1, SOUTH, color ='r', width = barWidth,\n",
    "        edgecolor ='grey', label ='SOUTH')\n",
    "plt.bar(br2, WEST, color ='g', width = barWidth,\n",
    "        edgecolor ='grey', label ='WEST')\n",
    "plt.bar(br3, CENTRAL, color ='b', width = barWidth,\n",
    "        edgecolor ='grey', label ='CENTRAL')\n",
    "plt.bar(br4, EAST, color ='y', width = barWidth,\n",
    "        edgecolor ='grey', label ='EAST')\n",
    " \n",
    "# Adding Xticks\n",
    "plt.xlabel('Branch', fontweight ='bold', fontsize = 15)\n",
    "plt.ylabel('Number of Orders', fontweight ='bold', fontsize = 15)\n",
    "plt.xticks([r + barWidth for r in range(len(SOUTH))],\n",
    "        ['Office Supplies', 'Technology', 'Furniture'])\n",
    " \n",
    "plt.legend()\n",
    "plt.show()"
   ]
  },
  {
   "cell_type": "markdown",
   "id": "dcd00fe5",
   "metadata": {},
   "source": [
    "Bar chart to put it alll together: comparing order amounts over all regions"
   ]
  },
  {
   "cell_type": "markdown",
   "id": "cb76d9dd",
   "metadata": {},
   "source": [
    "Overall, people from all regions overwhelmingly order office supplies more than any other category–makes sense, because furniture and technology are more expensive purchases, which should be made less frequently... The ratios between categories seem about the same, although the West places the most orders, while the South places the least."
   ]
  },
  {
   "cell_type": "markdown",
   "id": "95d0cf36",
   "metadata": {},
   "source": [
    "Exploration of subcategories:"
   ]
  },
  {
   "cell_type": "code",
   "execution_count": 63,
   "id": "0dfb9d89",
   "metadata": {},
   "outputs": [
    {
     "data": {
      "text/plain": [
       "Text(0, 0.5, 'Number of Orders')"
      ]
     },
     "execution_count": 63,
     "metadata": {},
     "output_type": "execute_result"
    },
    {
     "data": {
      "image/png": "[encoded data removed]",
      "text/plain": [
       "<Figure size 432x288 with 1 Axes>"
      ]
     },
     "metadata": {
      "needs_background": "light"
     },
     "output_type": "display_data"
    }
   ],
   "source": [
    "furniture = df[df.Category == \"Furniture\"]\n",
    "plt.hist(furniture[\"Sub-Category\"])\n",
    "plt.xlabel('Sub-Category of Furniture', fontweight ='bold', fontsize = 15)\n",
    "plt.ylabel('Number of Orders', fontweight ='bold', fontsize = 15)"
   ]
  },
  {
   "cell_type": "code",
   "execution_count": 72,
   "id": "8378cb02",
   "metadata": {},
   "outputs": [
    {
     "data": {
      "text/plain": [
       "Text(0, 0.5, 'Number of Orders')"
      ]
     },
     "execution_count": 72,
     "metadata": {},
     "output_type": "execute_result"
    },
    {
     "data": {
      "image/png": "[encoded data removed]",
      "text/plain": [
       "<Figure size 432x288 with 1 Axes>"
      ]
     },
     "metadata": {
      "needs_background": "light"
     },
     "output_type": "display_data"
    }
   ],
   "source": [
    "technology = df[df.Category == \"Technology\"]\n",
    "plt.hist(technology[\"Sub-Category\"])\n",
    "plt.xlabel('Sub-Category of Technology', fontweight ='bold', fontsize = 15)\n",
    "plt.ylabel('Number of Orders', fontweight ='bold', fontsize = 15)"
   ]
  },
  {
   "cell_type": "code",
   "execution_count": 76,
   "id": "39a3af42",
   "metadata": {},
   "outputs": [
    {
     "data": {
      "text/plain": [
       "Text(0, 0.5, 'Number of Orders')"
      ]
     },
     "execution_count": 76,
     "metadata": {},
     "output_type": "execute_result"
    },
    {
     "data": {
      "image/png": "[encoded data removed]",
      "text/plain": [
       "<Figure size 432x288 with 1 Axes>"
      ]
     },
     "metadata": {
      "needs_background": "light"
     },
     "output_type": "display_data"
    }
   ],
   "source": [
    "os = df[df.Category == \"Office Supplies\"]\n",
    "plt.hist(os[\"Sub-Category\"], bins = os['Sub-Category'].unique())\n",
    "plt.xlabel('Sub-Category of Office Supplies', fontweight ='bold', fontsize = 15)\n",
    "plt.ylabel('Number of Orders', fontweight ='bold', fontsize = 15)"
   ]
  },
  {
   "cell_type": "code",
   "execution_count": 74,
   "id": "16b10664",
   "metadata": {},
   "outputs": [
    {
     "data": {
      "text/plain": [
       "array(['Labels', 'Storage', 'Art', 'Binders', 'Appliances', 'Paper',\n",
       "       'Envelopes', 'Fasteners', 'Supplies'], dtype=object)"
      ]
     },
     "execution_count": 74,
     "metadata": {},
     "output_type": "execute_result"
    }
   ],
   "source": [
    "os['Sub-Category'].unique() #bins here, because histogram doesn't have enough space"
   ]
  },
  {
   "cell_type": "markdown",
   "id": "dc2fc8a3",
   "metadata": {},
   "source": [
    "# Plot 3: Map of Orders"
   ]
  },
  {
   "cell_type": "markdown",
   "id": "c105ffa5",
   "metadata": {},
   "source": [
    "Shows a map of all cities where orders are placed from"
   ]
  },
  {
   "cell_type": "code",
   "execution_count": null,
   "id": "2011d91e",
   "metadata": {},
   "outputs": [],
   "source": [
    "# Import necessary packages\n",
    "import os \n",
    "import folium\n",
    "from folium import plugins\n",
    "import rioxarray as rxr\n",
    "import earthpy as et\n",
    "import earthpy.spatial as es\n",
    "\n",
    "# Import data from EarthPy\n",
    "data = et.data.get_data('colorado-flood')\n",
    "\n",
    "# Set working directory to earth-analytics\n",
    "os.chdir(os.path.join(et.io.HOME, 'earth-analytics', 'data'))"
   ]
  },
  {
   "cell_type": "code",
   "execution_count": null,
   "id": "15bf2cf1",
   "metadata": {},
   "outputs": [],
   "source": [
    "m = folium.Map(location=[40.0150, -105.2705], tiles = 'Stamen Terrain')\n",
    "\n",
    "m"
   ]
  },
  {
   "cell_type": "code",
   "execution_count": null,
   "id": "4bea7c23",
   "metadata": {},
   "outputs": [],
   "source": [
    "from geopy import geocoders\n",
    "from geopy.geocoders import Nominatim\n",
    "\n",
    "gn = geocoders.GeoNames(username='allisonzhuang')\n",
    "geolocator = Nominatim(user_agent='allisonzhuang')\n",
    "\n"
   ]
  },
  {
   "cell_type": "code",
   "execution_count": null,
   "id": "8606584a",
   "metadata": {},
   "outputs": [],
   "source": [
    "cities = df.City.unique()\n",
    "cities"
   ]
  },
  {
   "cell_type": "code",
   "execution_count": null,
   "id": "dae5175c",
   "metadata": {},
   "outputs": [],
   "source": [
    "geolocator.geocode(\"Henderson\")[1]"
   ]
  },
  {
   "cell_type": "code",
   "execution_count": null,
   "id": "cb49ab60",
   "metadata": {},
   "outputs": [],
   "source": [
    "location = geolocator.geocode(\"Athens\", language = 'en-US')\n",
    "location"
   ]
  },
  {
   "cell_type": "code",
   "execution_count": null,
   "id": "02dc5c1c",
   "metadata": {},
   "outputs": [],
   "source": [
    "coordinates = []\n",
    "for city in cities:\n",
    "    coordinates.append([city, geolocator.geocode(city)[1]])\n",
    "\n",
    "coordinates"
   ]
  },
  {
   "cell_type": "code",
   "execution_count": null,
   "id": "bab61f2d",
   "metadata": {},
   "outputs": [],
   "source": [
    "in_america = []\n",
    "\n",
    "for coordinate in coordinates:\n",
    "    print(coordinate)\n",
    "    if(coordinate[1][0] < 50 and coordinate[1][0] > 24 and coordinate[1][1] < -63 and coordinate[1][1] > -125):\n",
    "        in_america.append(coordinate)\n",
    "\n",
    "in_america"
   ]
  },
  {
   "cell_type": "code",
   "execution_count": null,
   "id": "58f094b5",
   "metadata": {
    "scrolled": true
   },
   "outputs": [],
   "source": [
    "for coordinate in in_america:\n",
    "    folium.Marker(\n",
    "    location=coordinate[1], # coordinates for the marker\n",
    "    popup=coordinate[0], # pop-up label for the marker\n",
    "    icon=folium.Icon()\n",
    ").add_to(m)\n",
    "    \n",
    "m"
   ]
  },
  {
   "cell_type": "markdown",
   "id": "c71a7e44",
   "metadata": {},
   "source": [
    "# Part 2: Data Exploration and Prediction"
   ]
  },
  {
   "cell_type": "markdown",
   "id": "60945096",
   "metadata": {},
   "source": [
    "Trying to predict profit from Postal Code, Region, Category, Sales, Quantity, Discount–features selected based on my expectation of their importance."
   ]
  },
  {
   "cell_type": "code",
   "execution_count": null,
   "id": "178607f2",
   "metadata": {},
   "outputs": [],
   "source": [
    "new_df = df.drop(columns=['Row ID', 'Order ID', 'Order Date', 'Ship Date', 'Ship Mode',\n",
    "       'Customer ID', 'Customer Name', 'Segment', 'Country', 'City', 'State',\n",
    "        'Product ID', 'Sub-Category', 'Region', 'Category',\n",
    "       'Product Name'])\n",
    "#kept Postal Code\tRegion\tCategory\tSales\tQuantity\tDiscount\tProfit\t\n",
    "\n",
    "is_f = []\n",
    "is_o = []\n",
    "is_t = []\n",
    "\n",
    "for cat in df.Category:\n",
    "    if(cat == 'Furniture'):\n",
    "        is_f.append(1)\n",
    "        is_o.append(0)\n",
    "        is_t.append(0)\n",
    "    elif(cat == 'Office Supplies'):\n",
    "        is_f.append(0)\n",
    "        is_o.append(1)\n",
    "        is_t.append(0)\n",
    "    else:\n",
    "        is_f.append(0)\n",
    "        is_o.append(0)\n",
    "        is_t.append(1)\n",
    "\n",
    "        \n",
    "new_df['Is Furniture'] = is_f\n",
    "new_df['Is Office Supplies'] = is_o\n",
    "#turn regions into dummy variables; need them to be numbers in order to use as attributes for linear regression"
   ]
  },
  {
   "cell_type": "code",
   "execution_count": null,
   "id": "e73c18b8",
   "metadata": {},
   "outputs": [],
   "source": [
    "new_df"
   ]
  },
  {
   "cell_type": "code",
   "execution_count": null,
   "id": "e657c60d",
   "metadata": {},
   "outputs": [],
   "source": [
    "is_south = []\n",
    "is_west = []\n",
    "is_central = []\n",
    "#last category is east; don't need a dummy variable because if all others are 0, that implies the region is east.\n",
    "\n",
    "for reg in df.Region:\n",
    "    if(reg == 'South'):\n",
    "        is_south.append(1)\n",
    "        is_west.append(0)\n",
    "        is_central.append(0)\n",
    "    elif(reg == 'West'):\n",
    "        is_south.append(0)\n",
    "        is_west.append(1)\n",
    "        is_central.append(0)\n",
    "    elif (reg == 'Central'):\n",
    "        is_south.append(0)\n",
    "        is_west.append(0)\n",
    "        is_central.append(1)\n",
    "    else:\n",
    "        is_south.append(0)\n",
    "        is_west.append(0)\n",
    "        is_central.append(0)\n",
    "        \n",
    "new_df['Is South'] = is_south\n",
    "new_df['Is West'] = is_west\n",
    "new_df['Is Central'] = is_central\n",
    "\n",
    "#dummy variables for region as well"
   ]
  },
  {
   "cell_type": "code",
   "execution_count": null,
   "id": "c58f0c69",
   "metadata": {},
   "outputs": [],
   "source": [
    "new_df"
   ]
  },
  {
   "cell_type": "code",
   "execution_count": null,
   "id": "4b012b9b",
   "metadata": {},
   "outputs": [],
   "source": [
    "new_df=new_df.astype(float)\n",
    "#entries are currently strings–convert to floats"
   ]
  },
  {
   "cell_type": "code",
   "execution_count": null,
   "id": "61e156c0",
   "metadata": {},
   "outputs": [],
   "source": [
    "import seaborn as sns\n",
    "sns.histplot(data=new_df, x=\"Sales\")"
   ]
  },
  {
   "cell_type": "code",
   "execution_count": null,
   "id": "37b61246",
   "metadata": {},
   "outputs": [],
   "source": [
    "sns.histplot(data=new_df, x=\"Profit\")\n",
    "#wide range of x-values for both sales and profits implies that there are some very big outliers"
   ]
  },
  {
   "cell_type": "code",
   "execution_count": null,
   "id": "8cbac2af",
   "metadata": {},
   "outputs": [],
   "source": [
    "#new_df['Discount_n']=new_df['Discount']*np.log(new_df['Sales'])\n",
    "\n",
    "new_df['Discount_n']=new_df['Discount']*100\n",
    "#normalizing discout so it's a percentage and the same order of magnitude as other attributes\n",
    "\n",
    "y = new_df.Profit\n",
    "df_x=new_df.drop(columns = ['Profit', 'Postal Code','Discount'])\n",
    "df_x['Sales']=np.log(df_x['Sales'])\n",
    "#normalizing sales to account for outliers\n",
    "\n",
    "df_x.head()"
   ]
  },
  {
   "cell_type": "code",
   "execution_count": null,
   "id": "1006865c",
   "metadata": {},
   "outputs": [],
   "source": [
    "sns.histplot(data=df_x, x=\"Sales\")"
   ]
  },
  {
   "cell_type": "code",
   "execution_count": null,
   "id": "e5379854",
   "metadata": {},
   "outputs": [],
   "source": [
    "sns.histplot(data=np.log(new_df), x=\"Profit\")"
   ]
  },
  {
   "cell_type": "markdown",
   "id": "6f7c91c2",
   "metadata": {},
   "source": [
    "After taking log of both profit and sales, our x-values seem to take on a normal distribution."
   ]
  },
  {
   "cell_type": "code",
   "execution_count": null,
   "id": "dab39bcd",
   "metadata": {},
   "outputs": [],
   "source": [
    "x = df_x\n",
    "x.head()"
   ]
  },
  {
   "cell_type": "code",
   "execution_count": null,
   "id": "e27fada3",
   "metadata": {},
   "outputs": [],
   "source": [
    "from sklearn.linear_model import LinearRegression, Ridge, Lasso \n",
    "from sklearn.model_selection import train_test_split \n",
    "from sklearn.metrics import mean_squared_error"
   ]
  },
  {
   "cell_type": "code",
   "execution_count": null,
   "id": "e5118300",
   "metadata": {},
   "outputs": [],
   "source": [
    "x_train, x_test, y_train, y_test = train_test_split(\n",
    "     x, y, test_size=0.20)\n",
    "#split data into training and testing sets"
   ]
  },
  {
   "cell_type": "code",
   "execution_count": null,
   "id": "203fc9f8",
   "metadata": {},
   "outputs": [],
   "source": [
    "from sklearn import preprocessing\n",
    "scaler = preprocessing.StandardScaler().fit(x_train)\n",
    "x_train_scaled = scaler.transform(x_train)\n",
    "x_test_scaled = scaler.transform(x_test)\n",
    "\n",
    "\n",
    "#scale x, y because sales was orders of magnitude higher than the other attributes"
   ]
  },
  {
   "cell_type": "code",
   "execution_count": null,
   "id": "b8cff89a",
   "metadata": {},
   "outputs": [],
   "source": [
    "np.max(x_train)"
   ]
  },
  {
   "cell_type": "code",
   "execution_count": null,
   "id": "09b9538f",
   "metadata": {},
   "outputs": [],
   "source": [
    "clf = Lasso()\n",
    "clf.fit(x_train, y_train)\n",
    "\n",
    "y_predictions = clf.predict(x_test)\n",
    "y_predictions=np.exp(y_predictions)\n",
    "\n",
    "print(\"Lasso:\")\n",
    "print(mean_squared_error(y_test, y_predictions))\n",
    "\n",
    "ridge = Ridge(alpha=0.)\n",
    "ridge.fit(x_train, y_train)\n",
    "\n",
    "y_predictions = ridge.predict(x_test)\n",
    "y_predictions=np.exp(y_predictions)\n",
    "\n",
    "\n",
    "print(\"Ridge:\")\n",
    "print(mean_squared_error(y_test, y_predictions))"
   ]
  },
  {
   "cell_type": "markdown",
   "id": "cf4e9656",
   "metadata": {},
   "source": [
    "The above values represent the mean squared errors of our predictions–really high, let's try to predict based on category."
   ]
  },
  {
   "cell_type": "code",
   "execution_count": null,
   "id": "f37ddbd8",
   "metadata": {},
   "outputs": [],
   "source": [
    "print(\"Lasso parameters:\" + str(clf.coef_))\n",
    "print(\"Ridge parameters:\" + str(ridge.coef_))"
   ]
  },
  {
   "cell_type": "markdown",
   "id": "eb9eb89b",
   "metadata": {},
   "source": [
    "The lasso model eliminates Is Office Supplies and Is South, implying that those are completely irrelevant to predicting profit; Is Furniture has a strong negative relationship to profit, implying that furniture is often unprofitable. \n",
    "\n",
    "Looking at the 5th, 6th, and 7th coefficients, it looks like relative to orders from the East region, orders from the South generate roughly the same amount of profit, while those from the West generate slightly less, and those from the Central part of the US generate slightly more."
   ]
  },
  {
   "cell_type": "markdown",
   "id": "705c887c",
   "metadata": {},
   "source": [
    "# Predicting Profits by Category"
   ]
  },
  {
   "cell_type": "code",
   "execution_count": null,
   "id": "d1a5736b",
   "metadata": {},
   "outputs": [],
   "source": [
    "new_df"
   ]
  },
  {
   "cell_type": "code",
   "execution_count": null,
   "id": "bde11b5f",
   "metadata": {},
   "outputs": [],
   "source": [
    "furniture = new_df[new_df['Is Furniture'] == 1]\n",
    "furniture"
   ]
  },
  {
   "cell_type": "code",
   "execution_count": null,
   "id": "26039d6e",
   "metadata": {},
   "outputs": [],
   "source": [
    "x = furniture.drop(columns = ['Profit', 'Postal Code'])\n",
    "y = furniture.Profit\n",
    "\n",
    "x_train, x_test, y_train, y_test = train_test_split(\n",
    "     x, y, test_size=0.20)"
   ]
  },
  {
   "cell_type": "code",
   "execution_count": null,
   "id": "a9646130",
   "metadata": {},
   "outputs": [],
   "source": [
    "clf = Lasso()\n",
    "clf.fit(x_train, y_train)\n",
    "\n",
    "y_predictions = clf.predict(x_test)\n",
    "y_predictions=np.exp(y_predictions)"
   ]
  },
  {
   "cell_type": "code",
   "execution_count": null,
   "id": "6a58dcf7",
   "metadata": {},
   "outputs": [],
   "source": [
    "x_test"
   ]
  },
  {
   "cell_type": "code",
   "execution_count": null,
   "id": "82102288",
   "metadata": {},
   "outputs": [],
   "source": [
    "y_predictions"
   ]
  },
  {
   "cell_type": "code",
   "execution_count": null,
   "id": "30fde4d9",
   "metadata": {},
   "outputs": [],
   "source": [
    "print(\"Lasso:\")\n",
    "print(mean_squared_error(y_test, y_predictions))\n",
    "\n",
    "ridge = Ridge(alpha=0.)\n",
    "ridge.fit(x_train, y_train)\n",
    "\n",
    "y_predictions = ridge.predict(x_test)\n",
    "y_predictions=np.exp(y_predictions)\n",
    "\n",
    "print(\"Ridge:\")\n",
    "print(mean_squared_error(y_test, y_predictions))"
   ]
  },
  {
   "cell_type": "markdown",
   "id": "3647092c",
   "metadata": {},
   "source": [
    "Error is even higher–maybe profit is just too difficult to predict."
   ]
  },
  {
   "cell_type": "code",
   "execution_count": null,
   "id": "8b12c013",
   "metadata": {},
   "outputs": [],
   "source": [
    "print(\"Lasso parameters:\" + str(clf.coef_))\n",
    "print(\"Ridge parameters:\" + str(ridge.coef_))"
   ]
  },
  {
   "cell_type": "markdown",
   "id": "f76dbb3d",
   "metadata": {},
   "source": [
    "The lasso model eliminates parameters, Discount, Is Furniture, Is Office Supplies, Is South, and Is West, keeping Discount, Is Furniture, Is Office Supplies, Is South, and Is West... Is South is relatively high, implying that orders from the South region generally result in a higher profit."
   ]
  },
  {
   "cell_type": "markdown",
   "id": "69507eba",
   "metadata": {},
   "source": []
  }
 ],
 "metadata": {
  "kernelspec": {
   "display_name": "Python 3 (ipykernel)",
   "language": "python",
   "name": "python3"
  },
  "language_info": {
   "codemirror_mode": {
    "name": "ipython",
    "version": 3
   },
   "file_extension": ".py",
   "mimetype": "text/x-python",
   "name": "python",
   "nbconvert_exporter": "python",
   "pygments_lexer": "ipython3",
   "version": "3.9.12"
  }
 },
 "nbformat": 4,
 "nbformat_minor": 5
}
